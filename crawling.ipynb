{
 "cells": [
  {
   "cell_type": "code",
   "execution_count": 3,
   "metadata": {},
   "outputs": [],
   "source": [
    "from bs4 import BeautifulSoup\n",
    "import requests"
   ]
  },
  {
   "cell_type": "code",
   "execution_count": 4,
   "metadata": {},
   "outputs": [],
   "source": [
    "def parsing_beautifulsoup(url):\n",
    "    \"\"\"\n",
    "    뷰티풀 수프로 파싱하는 함수\n",
    "    :param url: paring할 URL. 여기선 YES24 Link\n",
    "    :return: BeautifulSoup soup Object\n",
    "    \"\"\"\n",
    "\n",
    "    data = requests.get(url)\n",
    "\n",
    "    html = data.text\n",
    "    return BeautifulSoup(html, 'html.parser')"
   ]
  },
  {
   "cell_type": "code",
   "execution_count": 186,
   "metadata": {},
   "outputs": [],
   "source": [
    "kakao_url = \"https://tech.kakao.com/blog/#posts\"\n",
    "\n",
    "soup = parsing_beautifulsoup(kakao_url)"
   ]
  },
  {
   "cell_type": "code",
   "execution_count": 193,
   "metadata": {},
   "outputs": [
    {
     "name": "stdout",
     "output_type": "stream",
     "text": [
      "https://tech.kakao.com/2022/12/09/ifkakao2022-day3/\n",
      "https://tech.kakao.com/2022/12/08/ifkakao2022-day2/\n",
      "https://tech.kakao.com/2022/12/07/ifkakao2022-day1/\n",
      "https://tech.kakao.com/2022/12/09/ifkakao2022-day3/\n",
      "https://tech.kakao.com/2022/12/08/ifkakao2022-day2/\n",
      "https://tech.kakao.com/2022/12/07/ifkakao2022-day1/\n",
      "https://tech.kakao.com/2022/11/23/ifkakao2022/\n",
      "https://tech.kakao.com/2022/11/01/pnu-tech-week-2002/\n",
      "https://tech.kakao.com/2022/10/31/brunch-dev/\n",
      "https://tech.kakao.com/2022/10/31/kakao-view/\n",
      "https://tech.kakao.com/2022/10/31/cert-dev/\n",
      "[kakao]\n",
      "<a href=https://tech.kakao.com/2022/12/09/ifkakao2022-day3/>if(kakao)dev 2022, 3일차 안내</a><br/>\n",
      "<a href=https://tech.kakao.com/2022/12/08/ifkakao2022-day2/>if(kakao)dev 2022, 2일차 안내</a><br/>\n",
      "<a href=https://tech.kakao.com/2022/12/07/ifkakao2022-day1/>if(kakao)dev 2022, 1일차 안내</a><br/>\n",
      "<a href=https://tech.kakao.com/2022/12/09/ifkakao2022-day3/>if(kakao)dev 2022, 3일차 안내</a><br/>\n",
      "<a href=https://tech.kakao.com/2022/12/08/ifkakao2022-day2/>if(kakao)dev 2022, 2일차 안내</a><br/>\n",
      "<a href=https://tech.kakao.com/2022/12/07/ifkakao2022-day1/>if(kakao)dev 2022, 1일차 안내</a><br/>\n",
      "<a href=https://tech.kakao.com/2022/11/23/ifkakao2022/>if kakao 2022 개발자 컨퍼런스를 개최합니다.</a><br/>\n",
      "<a href=https://tech.kakao.com/2022/11/01/pnu-tech-week-2002/>(참여후기) 2022 부산대학교 정보컴퓨터공학부 산학교류회</a><br/>\n",
      "<a href=https://tech.kakao.com/2022/10/31/brunch-dev/>[post Server!] 브런치개발파트에 대한 모든 것!</a><br/>\n",
      "<a href=https://tech.kakao.com/2022/10/31/kakao-view/>[post Server! ] 카카오 뷰와 동영상 서비스를 맡고 있는 뷰개발팀에서 함께 할 동료를 찾습니다.</a><br/>\n",
      "<a href=https://tech.kakao.com/2022/10/31/cert-dev/>[post Server!] 인증서개발파트에서 함께 개발하실 동료를 찾고 있습니다!</a><br/>\n",
      "\n"
     ]
    }
   ],
   "source": [
    "kakao_posts = soup.select(\".elementor-post__title\")\n",
    "\n",
    "upload_contents = '[kakao]\\n'\n",
    "\n",
    "for post in kakao_posts:\n",
    "    post_title = post.select(\"a\")[0].text.strip()\n",
    "    kakao_post_url = post.select(\"a\")[0].attrs[\"href\"]\n",
    "    print(kakao_post_url)\n",
    "    \n",
    "    content = f\"<a href={kakao_post_url}>\"+ post_title + \"</a>\" + \"<br/>\\n\"\n",
    "    upload_contents += content\n",
    "\n",
    "print(upload_contents)"
   ]
  },
  {
   "cell_type": "code",
   "execution_count": 201,
   "metadata": {},
   "outputs": [
    {
     "name": "stdout",
     "output_type": "stream",
     "text": [
      "[LINE]\n",
      "<a href=https://engineering.linecorp.com//ko/blog/line-pay-swiftui-textfield>LINE Pay에서 SwiftUI TextField 사용하기</a>, <br/>\n",
      "<a href=https://engineering.linecorp.com//ko/blog/line-voip-voice-quality-with-vqe>화상 회의할 때 음성 품질을 높이는 기술</a>, <br/>\n",
      "<a href=https://engineering.linecorp.com//ko/blog/nlp-intl-conference-colling-2022-recap>NLP 국제 학회 COLING 2022 참석 후기</a>, <br/>\n",
      "<a href=https://engineering.linecorp.com//ko/blog/templete-method-pattern>템플릿 메서드 패턴으로 모순 없는 상태 보장하기</a>, <br/>\n",
      "<a href=https://engineering.linecorp.com//ko/blog/AES-GCM-SIV-optimization>암호 알고리즘 AES-GCM-SIV 최적화 작업 소개</a>, <br/>\n",
      "<a href=https://engineering.linecorp.com//ko/blog/jsconf-korea-2022-recap>JS CONF 2022에 다녀왔습니다</a>, <br/>\n",
      "<a href=https://engineering.linecorp.com//ko/blog/line-zholdings-tech-conference-tech-verse-2022>LINE과 Yahoo! JAPAN의 공동 테크 콘퍼런스 'Tech-Verse 2022'를 개최합니다</a>, <br/>\n",
      "<a href=https://engineering.linecorp.com//ko/blog/LINE-integrated-notification-center-from-redis-to-mongodb>LINE 알림 센터의 메인 스토리지를 Redis에서 MongoDB로 전환하기</a>, <br/>\n",
      "<a href=https://engineering.linecorp.com//ko/blog/messaing-hub-troubleshooting>messaging-hub 트러블 슈팅</a>, <br/>\n",
      "<a href=https://engineering.linecorp.com//ko/blog/do-not-block-the-event-loop-part3>비동기 서버에서 이벤트 루프를 블록하면 안 되는 이유 3부 - Reactor 패턴과 이벤트 루프</a>, <br/>\n",
      "<a href=https://engineering.linecorp.com//ko/blog/do-not-block-the-event-loop-part3>비동기 서버에서 이벤트 루프를 블록하면 안 되는 이유 3부 - Reactor 패턴과 이벤트 루프</a>, <br/>\n",
      "\n"
     ]
    }
   ],
   "source": [
    "line_url = \"https://engineering.linecorp.com/ko/blog/\"\n",
    "\n",
    "data = requests.get(line_url)\n",
    "\n",
    "html = data.content.decode('utf-8','replace')\n",
    "\n",
    "soup = BeautifulSoup(html,'html.parser')\n",
    "\n",
    "line_posts = soup.select(\".title\")\n",
    "\n",
    "line_contents = '[LINE]\\n'\n",
    "url_prefix = \"https://engineering.linecorp.com/\"\n",
    "\n",
    "for post in line_posts:\n",
    "    if post.select(\"a\"):\n",
    "        line_post_title = post.select(\"a\")[0].text\n",
    "        url_suffix = post.select(\"a\")[0].attrs[\"href\"]\n",
    "        line_post_url = url_prefix + url_suffix\n",
    "\n",
    "        content = f\"<a href={line_post_url}>\" + line_post_title + \"</a>\" + \", \" +  \"<br/>\\n\"\n",
    "    \n",
    "    line_contents += content\n",
    "\n",
    "print(line_contents)\n",
    "    "
   ]
  },
  {
   "cell_type": "code",
   "execution_count": 55,
   "metadata": {},
   "outputs": [
    {
     "name": "stdout",
     "output_type": "stream",
     "text": [
      "[aws]\n",
      "<a href=https://aws.amazon.com/ko/blogs/tech/iot-device-ml-inference/>­­IoT 디바이스에서 쉽고 편리하게 머신러닝(ML) 추론하기</a></br>\n",
      "<a href=https://aws.amazon.com/ko/blogs/tech/media-deploying-virtual-linear-ott-channels-using-aws-media-services/>AWS 미디어 서비스를 사용하여 Virtual linear OTT 채널 배포하기</a></br>\n",
      "<a href=https://aws.amazon.com/ko/blogs/tech/host-code-server-on-amazon-sagemaker/>Amazon SageMaker에서 code-server 호스팅하기</a></br>\n",
      "<a href=https://aws.amazon.com/ko/blogs/tech/ml-inference-based-on-xgboost-using-aws-lambda-with-cdk/>AWS Lambda를 이용한 XGBoost 머신러닝(ML) 추론하기</a></br>\n",
      "<a href=https://aws.amazon.com/ko/blogs/tech/defect-detection-l4v-rekog/>Amazon Lookout for Vision과 Rekognition을 이용한 부품 결함 감지 시스템 구축하기</a></br>\n",
      "<a href=https://aws.amazon.com/ko/blogs/tech/aws-mts-scalability-mobile-trading-system/>AWS를 활용한 확장성 높은 모바일 트레이딩 시스템 (MTS) 구축하기</a></br>\n",
      "<a href=https://aws.amazon.com/ko/blogs/tech/implementing-pod-security-standards-in-amazon-eks/>Amazon EKS 환경에서 Pod Security Standard 구현하기</a></br>\n",
      "<a href=https://aws.amazon.com/ko/blogs/tech/aws-iot-twinmaker-stream/>AWS IoT TwinMaker로 비디오 스트림을 연동한 디지털 트윈 생성하기</a></br>\n",
      "<a href=https://aws.amazon.com/ko/blogs/tech/real-time-analytics-with-amazon-redshift-streaming-ingestion/>Amazon Redshift 스트리밍 수집을 이용한 실시간 분석</a></br>\n",
      "<a href=https://aws.amazon.com/ko/blogs/tech/amazon-redshift-continues-its-price-and-performance/>Amazon Redshift의 가격 대비 성능 벤치 마크 결과</a></br>\n",
      "\n"
     ]
    }
   ],
   "source": [
    "aws_url = \"https://aws.amazon.com/ko/blogs/tech/\"\n",
    "\n",
    "soup = parsing_beautifulsoup(aws_url)\n",
    "\n",
    "aws_posts = soup.select(\".blog-post\")\n",
    "\n",
    "aws_contents = '[aws]\\n'\n",
    "\n",
    "for post in aws_posts:\n",
    "    aws_url = post.select(\"a\")[0].attrs[\"href\"]\n",
    "    aws_post_title = post.select(\"h2\")[0].select(\"span\")[0].get_text()\n",
    "\n",
    "    content = f\"<a href={aws_url}>\" + aws_post_title + \"</a>\" + \"</br>\\n\"\n",
    "    aws_contents += content\n",
    "\n",
    "print(aws_contents)"
   ]
  },
  {
   "cell_type": "code",
   "execution_count": 169,
   "metadata": {},
   "outputs": [
    {
     "name": "stdout",
     "output_type": "stream",
     "text": [
      "[마켓컬리]\n",
      "<a href=https://helloworld.kurly.com/blog/logistics-optimization-2/컬리는 물류 최적화 문제를 어떻게 풀고 있을까? - 2부</a></br>\n",
      "<a href=https://helloworld.kurly.com/blog/second-mlops/Kurly만의 MLOps 구축하기 - 쿠브플로우 도입기</a></br>\n",
      "<a href=https://helloworld.kurly.com/blog/kurly-live-job-talkshow/KURLY 현직자가 직접 뽑은 직무별 핵심 키워드를 소개합니다!</a></br>\n",
      "<a href=https://helloworld.kurly.com/blog/first-mlops/Kurly만의 MLOps 구축하기 - 초석 다지기</a></br>\n",
      "<a href=https://helloworld.kurly.com/blog/logistics-optimization-1/컬리는 물류 최적화 문제를 어떻게 풀고 있을까? - 1부</a></br>\n",
      "<a href=https://helloworld.kurly.com/blog/spring-rest-docs-guide/내가 만든 API를 널리 알리기 - Spring REST Docs 가이드편</a></br>\n",
      "<a href=https://helloworld.kurly.com/blog/kurly-design-principle/Kurly Design Principle</a></br>\n",
      "<a href=https://helloworld.kurly.com/blog/team-building-game/우리가 실행해 본 팀원 모두 함께 할 수 있는 팀 빌딩 게임 3가지</a></br>\n",
      "<a href=https://helloworld.kurly.com/blog/concurrency-issue-solving/컬리 공통 암호화 모듈의 동시성 이슈 해결하기</a></br>\n",
      "<a href=https://helloworld.kurly.com/blog/kurly-hack-festa-2022/KURLY HACK FESTA 2022 개최기를 소개합니다.</a></br>\n",
      "<a href=https://helloworld.kurly.com/blog/introduction_new_kurlymall_web/새로운 컬리몰 NX를 소개합니다.</a></br>\n",
      "<a href=https://helloworld.kurly.com/blog/search-system-with-kafka-2/컬리 검색이 카프카를 들여다본 이야기 2</a></br>\n",
      "<a href=https://helloworld.kurly.com/blog/search-system-with-kafka-1/컬리 검색이 카프카를 들여다본 이야기 1</a></br>\n",
      "<a href=https://helloworld.kurly.com/blog/inbound-squad-sprint-2/스크럼, 입고팀이 애자일하게 일하는 법 2부</a></br>\n",
      "<a href=https://helloworld.kurly.com/blog/inbound-squad-sprint-1/스크럼, 입고팀이 애자일하게 일하는 법 1부</a></br>\n",
      "<a href=https://helloworld.kurly.com/blog/squad-b-team-building/팀을 더욱 유연하게 만들어가는 힘</a></br>\n",
      "<a href=https://helloworld.kurly.com/blog/review-20220224-tech-meetup/2022년 2월 마켓컬리 개발자 밋업 후기</a></br>\n",
      "<a href=https://helloworld.kurly.com/blog/how-to-work-da/컬리에서 데이터 분석가로 일한다는 것</a></br>\n",
      "<a href=https://helloworld.kurly.com/blog/why-we-make-common-library/우리는 왜 공통 라이브러리를 만들기 시작했나</a></br>\n",
      "<a href=https://helloworld.kurly.com/blog/terraform-adventure/DevOps팀의 Terraform 모험</a></br>\n",
      "<a href=https://helloworld.kurly.com/blog/my-cart-development-history/카트 개발 연대기</a></br>\n",
      "<a href=https://helloworld.kurly.com/blog/ddd-msa-service-development/DDD와 MSA 기반으로 좋은 서비스 개발하기</a></br>\n",
      "<a href=https://helloworld.kurly.com/blog/y-combinator/왜 폴 그레이엄은 회사 이름을 Y Combinator라고 지었을까</a></br>\n",
      "<a href=https://helloworld.kurly.com/blog/experience-the-kurly-interview-process/두근두근 컬리의 면접, 팀에서 성장하기</a></br>\n",
      "<a href=https://helloworld.kurly.com/blog/vsms-performance-experiment/신규 서비스 배포 전에 실험과 개선을 반복한 이야기</a></br>\n",
      "<a href=https://helloworld.kurly.com/blog/gift-order-development/컬리에서 선물하기를 개발하며 회고</a></br>\n",
      "<a href=https://helloworld.kurly.com/blog/thinking-in-react/React 이해하기</a></br>\n",
      "<a href=https://helloworld.kurly.com/blog/jpa-uuid-sapjil/JPA 덕분에 DB에서 삽질한 이야기</a></br>\n",
      "<a href=https://helloworld.kurly.com/blog/lambda-calculus-1/Lambda Calculus에 대해 알아보자</a></br>\n",
      "<a href=https://helloworld.kurly.com/blog/rms-refactoring/코드 악취를 맡는 후각 훈련의 시간</a></br>\n",
      "<a href=https://helloworld.kurly.com/blog/event-storming/Database Driven Development에서 진짜 DDD로의 선회, 이벤트 스토밍 -2-</a></br>\n",
      "<a href=https://helloworld.kurly.com/blog/cpd-developer-roadmap-2020/PHP Development Roadmap In 2020 At Kurly</a></br>\n",
      "<a href=https://helloworld.kurly.com/blog/php-development-in-kurly/마켓컬리에서의 PHP 이야기</a></br>\n",
      "<a href=https://helloworld.kurly.com/blog/newbie-mansei/신규입사자가 바로보는 마켓컬리</a></br>\n",
      "<a href=https://helloworld.kurly.com/blog/aws-ground-truth/AWS Sagemaker Ground Truth로 훈련용 이미지를 편하게 분류하자</a></br>\n",
      "<a href=https://helloworld.kurly.com/blog/slack_block_kit/Slack Block Kit 활용</a></br>\n",
      "<a href=https://helloworld.kurly.com/blog/order-monitoring-service/Kurly에서 주문을 모니터링 하는 법</a></br>\n",
      "<a href=https://helloworld.kurly.com/blog/reg-exp-01/개발자들이 꺼려하는 까칠한 규식이 형</a></br>\n",
      "<a href=https://helloworld.kurly.com/blog/fix-style-with-command/새로 입사한 개발자가 프로젝트에 기여하는 방법 한 가지</a></br>\n",
      "<a href=https://helloworld.kurly.com/blog/redis-fight-part-1/DevOps 엔지니어의 Redis Test 분투기 - Part 1</a></br>\n",
      "<a href=https://helloworld.kurly.com/blog/road-to-ddd/Database Driven Development에서 진짜 DDD로의 선회 -1-</a></br>\n",
      "<a href=https://helloworld.kurly.com/blog/study-in-lambda/잘못 작성된 람다 코드를 삭제하기까지의 여정</a></br>\n",
      "<a href=https://helloworld.kurly.com/blog/try-bdd/BDD로 테스트에 중독되어 보자</a></br>\n",
      "<a href=https://helloworld.kurly.com/blog/mob-programming/들어는 보았나 몹 프로그래밍!</a></br>\n",
      "<a href=https://helloworld.kurly.com/blog/redesign-tech-blog/기술 블로그를 다시 디자인하며</a></br>\n",
      "<a href=https://helloworld.kurly.com/blog/%EC%BF%A0%ED%8F%B0%EA%B3%BC-%ED%95%A0%EC%9D%B8%EC%9C%BC%EB%A1%9C-%EC%95%9E%EB%8B%A4%EB%A6%AC%EC%82%B4-%ED%95%98%EB%82%98-%EB%8D%94-%ED%8C%90%EB%A7%A4%ED%95%9C-%EC%9D%B4%EC%95%BC%EA%B8%B0/쿠폰과 할인으로 앞다리살 하나 더 판매한 이야기</a></br>\n",
      "<a href=https://helloworld.kurly.com/blog/market-kurly-service-architecture/마켓컬리 서비스 구조를 소개 합니다</a></br>\n",
      "<a href=https://helloworld.kurly.com/blog/welcome-to-kurly/Welcome to 마켓컬리!</a></br>\n",
      "\n"
     ]
    }
   ],
   "source": [
    "kurly_url = \"https://helloworld.kurly.com/\"\n",
    "\n",
    "soup = parsing_beautifulsoup(kurly_url)\n",
    "\n",
    "kurly_posts = soup.select(\".post-link\")\n",
    "\n",
    "url_prefix = \"https://helloworld.kurly.com\"\n",
    "\n",
    "kurly_contents = '[마켓컬리]\\n'\n",
    "\n",
    "for post in kurly_posts:\n",
    "    kurly_post_title = post.select(\"h3\")[0].text.strip()\n",
    "    url_suffix = post.attrs['href']\n",
    "    url = url_prefix+url_suffix\n",
    "\n",
    "    content = f\"<a href={url}\" + kurly_post_title + \"</a>\" + \"</br>\\n\"\n",
    "    kurly_contents += content\n",
    "\n",
    "print(kurly_contents)"
   ]
  },
  {
   "cell_type": "code",
   "execution_count": 176,
   "metadata": {},
   "outputs": [
    {
     "name": "stdout",
     "output_type": "stream",
     "text": [
      "[kakao]\n",
      "<a href=https://tech.kakao.com/2022/12/09/ifkakao2022-day3/>if(kakao)dev 2022, 3일차 안내</a><br/>\n",
      "<a href=https://tech.kakao.com/2022/12/08/ifkakao2022-day2/>if(kakao)dev 2022, 2일차 안내</a><br/>\n",
      "<a href=https://tech.kakao.com/2022/12/07/ifkakao2022-day1/>if(kakao)dev 2022, 1일차 안내</a><br/>\n",
      "<a href=https://tech.kakao.com/2022/12/09/ifkakao2022-day3/>if(kakao)dev 2022, 3일차 안내</a><br/>\n",
      "<a href=https://tech.kakao.com/2022/12/08/ifkakao2022-day2/>if(kakao)dev 2022, 2일차 안내</a><br/>\n",
      "<a href=https://tech.kakao.com/2022/12/07/ifkakao2022-day1/>if(kakao)dev 2022, 1일차 안내</a><br/>\n",
      "<a href=https://tech.kakao.com/2022/11/23/ifkakao2022/>if kakao 2022 개발자 컨퍼런스를 개최합니다.</a><br/>\n",
      "<a href=https://tech.kakao.com/2022/11/01/pnu-tech-week-2002/>(참여후기) 2022 부산대학교 정보컴퓨터공학부 산학교류회</a><br/>\n",
      "<a href=https://tech.kakao.com/2022/10/31/brunch-dev/>[post Server!] 브런치개발파트에 대한 모든 것!</a><br/>\n",
      "<a href=https://tech.kakao.com/2022/10/31/kakao-view/>[post Server! ] 카카오 뷰와 동영상 서비스를 맡고 있는 뷰개발팀에서 함께 할 동료를 찾습니다.</a><br/>\n",
      "<a href=https://tech.kakao.com/2022/10/31/cert-dev/>[post Server!] 인증서개발파트에서 함께 개발하실 동료를 찾고 있습니다!</a><br/>\n",
      "\n",
      "[LINE]\n",
      "<a href=https://engineering.linecorp.com//ko/blog/line-pay-swiftui-textfieldLINE Pay에서 SwiftUI TextField 사용하기</a><br/>\n",
      "<a href=https://engineering.linecorp.com//ko/blog/line-voip-voice-quality-with-vqe화상 회의할 때 음성 품질을 높이는 기술</a><br/>\n",
      "<a href=https://engineering.linecorp.com//ko/blog/nlp-intl-conference-colling-2022-recapNLP 국제 학회 COLING 2022 참석 후기</a><br/>\n",
      "<a href=https://engineering.linecorp.com//ko/blog/templete-method-pattern템플릿 메서드 패턴으로 모순 없는 상태 보장하기</a><br/>\n",
      "<a href=https://engineering.linecorp.com//ko/blog/AES-GCM-SIV-optimization암호 알고리즘 AES-GCM-SIV 최적화 작업 소개</a><br/>\n",
      "<a href=https://engineering.linecorp.com//ko/blog/jsconf-korea-2022-recapJS CONF 2022에 다녀왔습니다</a><br/>\n",
      "<a href=https://engineering.linecorp.com//ko/blog/line-zholdings-tech-conference-tech-verse-2022LINE과 Yahoo! JAPAN의 공동 테크 콘퍼런스 'Tech-Verse 2022'를 개최합니다</a><br/>\n",
      "<a href=https://engineering.linecorp.com//ko/blog/LINE-integrated-notification-center-from-redis-to-mongodbLINE 알림 센터의 메인 스토리지를 Redis에서 MongoDB로 전환하기</a><br/>\n",
      "<a href=https://engineering.linecorp.com//ko/blog/messaing-hub-troubleshootingmessaging-hub 트러블 슈팅</a><br/>\n",
      "<a href=https://engineering.linecorp.com//ko/blog/do-not-block-the-event-loop-part3비동기 서버에서 이벤트 루프를 블록하면 안 되는 이유 3부 - Reactor 패턴과 이벤트 루프</a><br/>\n",
      "<a href=https://engineering.linecorp.com//ko/blog/do-not-block-the-event-loop-part3비동기 서버에서 이벤트 루프를 블록하면 안 되는 이유 3부 - Reactor 패턴과 이벤트 루프</a><br/>\n",
      "\n"
     ]
    }
   ],
   "source": [
    "blog_contents = ''\n",
    "\n",
    "blog_contents += upload_contents\n",
    "\n",
    "blog_contents += '\\n'\n",
    "\n",
    "blog_contents += line_contents\n",
    "print(blog_contents)"
   ]
  },
  {
   "cell_type": "code",
   "execution_count": 77,
   "metadata": {},
   "outputs": [
    {
     "name": "stdout",
     "output_type": "stream",
     "text": [
      "[네이버 CLOVA]\n",
      "<a href=https://engineering.clova.ai/posts/2022/12/clova-md-solution>CLOVA MD 상품추천 솔루션</a></br>\n",
      "<a href=https://engineering.clova.ai/posts/2022/11/clops-summary-part5>CLOps - CLOps가 바꿔 놓은 CLOVA의 모델 상용화 프로세스</a></br>\n",
      "<a href=https://engineering.clova.ai/posts/2022/10/clops-model-management>CLOps - ML 서빙 플랫폼 모델 배포 및 운영</a></br>\n",
      "<a href=https://engineering.clova.ai/posts/2022/10/nsml-scheduler-part-2>NSML - 맞춤형 스케줄러 개발기</a></br>\n",
      "<a href=https://engineering.clova.ai/posts/2022/09/hyperclova-novel-part2>클로바 스튜디오 - 창작을 돕는 나의 AI 파트너 (2/2)</a></br>\n",
      "<a href=https://engineering.clova.ai/posts/2022/09/clops-resource-management>CLOps - ML 서빙 플랫폼 리소스 관리</a></br>\n",
      "<a href=https://engineering.clova.ai/posts/2022/08/nsml-scheduler-part-1>NSML - 분산 학습 플랫폼의 스케줄링 요구 사항과 해결 방안</a></br>\n",
      "\n"
     ]
    }
   ],
   "source": [
    "clova_url = \"https://engineering.clova.ai/\"\n",
    "\n",
    "soup = parsing_beautifulsoup(clova_url)\n",
    "\n",
    "clova_posts = soup.select(\".RecentPosts_recent_item__AdEEZ\")\n",
    "\n",
    "prefix_url = \"https://engineering.clova.ai\"\n",
    "\n",
    "clova_contents = '[네이버 CLOVA]\\n'\n",
    "\n",
    "for post in clova_posts:\n",
    "    suffix_url = post.select(\"a\")[0].attrs[\"href\"]\n",
    "    clova_post_title = post.select(\"a\")[0].select(\".RecentPosts_recent_title__YpXk7\")[0].get_text()\n",
    "\n",
    "    url = prefix_url + suffix_url\n",
    "\n",
    "    content = f\"<a href={url}>\" + clova_post_title + \"</a>\" + \"</br>\\n\"\n",
    "\n",
    "    clova_contents += content\n",
    "\n",
    "print(clova_contents)"
   ]
  }
 ],
 "metadata": {
  "kernelspec": {
   "display_name": "Python 3.10.8 ('myvenv': venv)",
   "language": "python",
   "name": "python3"
  },
  "language_info": {
   "codemirror_mode": {
    "name": "ipython",
    "version": 3
   },
   "file_extension": ".py",
   "mimetype": "text/x-python",
   "name": "python",
   "nbconvert_exporter": "python",
   "pygments_lexer": "ipython3",
   "version": "3.10.8"
  },
  "orig_nbformat": 4,
  "vscode": {
   "interpreter": {
    "hash": "8ef01a45ee8b09530f205d8ad378f4a68a0b6e0d8db5e65ee81fd515918e22a7"
   }
  }
 },
 "nbformat": 4,
 "nbformat_minor": 2
}
